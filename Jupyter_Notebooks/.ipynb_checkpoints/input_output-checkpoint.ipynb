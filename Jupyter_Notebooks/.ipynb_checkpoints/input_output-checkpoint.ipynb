{
 "cells": [
  {
   "cell_type": "code",
   "execution_count": 1,
   "id": "younger-symphony",
   "metadata": {},
   "outputs": [],
   "source": [
    "import pandas as pd"
   ]
  },
  {
   "cell_type": "code",
   "execution_count": 2,
   "id": "nonprofit-photographer",
   "metadata": {},
   "outputs": [],
   "source": [
    "bill100=pd.read_csv('billboard_100.csv')\n",
    "spotify=pd.read_csv('spotify.csv')"
   ]
  },
  {
   "cell_type": "code",
   "execution_count": 3,
   "id": "eleven-venezuela",
   "metadata": {},
   "outputs": [
    {
     "name": "stdout",
     "output_type": "stream",
     "text": [
      "What is your favority song. Please press Enter?Rapstar\n",
      "Your song belongs to the Top 100.\n",
      "0\n"
     ]
    }
   ],
   "source": [
    "fav_song = input(\"What is your favority song. Please press Enter?\")\n",
    "\n",
    "while fav_song != \" \":\n",
    "    if fav_song in list(bill100[\"song\"]):\n",
    "        print(\"Your song belongs to the Top 100.\")\n",
    "        print(list(bill100[\"song\"]).index(fav_song))\n",
    "        \n",
    "        \n",
    "    elif fav_song in list(spotify[\"song\"]):\n",
    "        print(\"Your song is part of the Top Morning songs.\")\n",
    "        print(list(spotify[\"song\"]).index(fav_song))\n",
    "              \n",
    "    else:\n",
    "        print(\"Please enter only your favorite song.\") \n",
    "              \n",
    "    break"
   ]
  },
  {
   "cell_type": "code",
   "execution_count": null,
   "id": "numerous-fishing",
   "metadata": {},
   "outputs": [],
   "source": []
  }
 ],
 "metadata": {
  "kernelspec": {
   "display_name": "Python 3",
   "language": "python",
   "name": "python3"
  },
  "language_info": {
   "codemirror_mode": {
    "name": "ipython",
    "version": 3
   },
   "file_extension": ".py",
   "mimetype": "text/x-python",
   "name": "python",
   "nbconvert_exporter": "python",
   "pygments_lexer": "ipython3",
   "version": "3.9.2"
  }
 },
 "nbformat": 4,
 "nbformat_minor": 5
}
