{
 "cells": [
  {
   "cell_type": "code",
   "execution_count": 1,
   "id": "younger-symphony",
   "metadata": {},
   "outputs": [],
   "source": [
    "import pandas as pd"
   ]
  },
  {
   "cell_type": "code",
   "execution_count": 2,
   "id": "nonprofit-photographer",
   "metadata": {},
   "outputs": [],
   "source": [
    "bill100=pd.read_csv('billboard_100.csv')\n",
    "spotify=pd.read_csv('spotify.csv')"
   ]
  },
  {
   "cell_type": "markdown",
   "id": "muslim-fiber",
   "metadata": {},
   "source": [
    "- look over their shoulder"
   ]
  },
  {
   "cell_type": "code",
   "execution_count": 23,
   "id": "eleven-venezuela",
   "metadata": {},
   "outputs": [
    {
     "name": "stdout",
     "output_type": "stream",
     "text": [
      "What is your favority song. Please press Enter?Leave The Door Open\n",
      "Your song belongs to the Top 100.\n",
      "1\n",
      "L\n"
     ]
    }
   ],
   "source": [
    "fav_song = input(\"What is your favority song. Please press Enter?\")\n",
    "\n",
    "while fav_song != \" \":\n",
    "    if fav_song in list(bill100[\"song\"]):\n",
    "        print(\"Your song belongs to the Top 100.\")\n",
    "        print(list(bill100[\"song\"]).index(fav_song))\n",
    "        print(max(fav_song, key=lambda x: len(x)))\n",
    "        \n",
    "    elif fav_song in list(spotify[\"song\"]):\n",
    "        print(\"Your song is part of the Top Morning songs.\")\n",
    "        print(list(spotify[\"song\"]).index(fav_song))\n",
    "              \n",
    "    else:\n",
    "        print(\"Please enter only your favorite song.\") \n",
    "              \n",
    "    break"
   ]
  },
  {
   "cell_type": "code",
   "execution_count": 18,
   "id": "annoying-engagement",
   "metadata": {},
   "outputs": [
    {
     "data": {
      "text/html": [
       "<div>\n",
       "<style scoped>\n",
       "    .dataframe tbody tr th:only-of-type {\n",
       "        vertical-align: middle;\n",
       "    }\n",
       "\n",
       "    .dataframe tbody tr th {\n",
       "        vertical-align: top;\n",
       "    }\n",
       "\n",
       "    .dataframe thead th {\n",
       "        text-align: right;\n",
       "    }\n",
       "</style>\n",
       "<table border=\"1\" class=\"dataframe\">\n",
       "  <thead>\n",
       "    <tr style=\"text-align: right;\">\n",
       "      <th></th>\n",
       "      <th>song</th>\n",
       "      <th>artists</th>\n",
       "    </tr>\n",
       "  </thead>\n",
       "  <tbody>\n",
       "    <tr>\n",
       "      <th>0</th>\n",
       "      <td>Rapstar</td>\n",
       "      <td>Polo G</td>\n",
       "    </tr>\n",
       "    <tr>\n",
       "      <th>1</th>\n",
       "      <td>Leave The Door Open</td>\n",
       "      <td>Silk Sonic (Bruno Mars &amp; Anderson .Paak)</td>\n",
       "    </tr>\n",
       "    <tr>\n",
       "      <th>2</th>\n",
       "      <td>Peaches</td>\n",
       "      <td>Justin Bieber Featuring Daniel Caesar &amp; Giveon</td>\n",
       "    </tr>\n",
       "    <tr>\n",
       "      <th>3</th>\n",
       "      <td>Montero (Call Me By Your Name)</td>\n",
       "      <td>Lil Nas X</td>\n",
       "    </tr>\n",
       "    <tr>\n",
       "      <th>4</th>\n",
       "      <td>Levitating</td>\n",
       "      <td>Dua Lipa Featuring DaBaby</td>\n",
       "    </tr>\n",
       "  </tbody>\n",
       "</table>\n",
       "</div>"
      ],
      "text/plain": [
       "                             song  \\\n",
       "0                         Rapstar   \n",
       "1             Leave The Door Open   \n",
       "2                         Peaches   \n",
       "3  Montero (Call Me By Your Name)   \n",
       "4                      Levitating   \n",
       "\n",
       "                                          artists  \n",
       "0                                          Polo G  \n",
       "1        Silk Sonic (Bruno Mars & Anderson .Paak)  \n",
       "2  Justin Bieber Featuring Daniel Caesar & Giveon  \n",
       "3                                       Lil Nas X  \n",
       "4                       Dua Lipa Featuring DaBaby  "
      ]
     },
     "execution_count": 18,
     "metadata": {},
     "output_type": "execute_result"
    }
   ],
   "source": [
    "bill100.head()"
   ]
  },
  {
   "cell_type": "code",
   "execution_count": null,
   "id": "numerous-fishing",
   "metadata": {},
   "outputs": [],
   "source": []
  }
 ],
 "metadata": {
  "kernelspec": {
   "display_name": "Python 3",
   "language": "python",
   "name": "python3"
  },
  "language_info": {
   "codemirror_mode": {
    "name": "ipython",
    "version": 3
   },
   "file_extension": ".py",
   "mimetype": "text/x-python",
   "name": "python",
   "nbconvert_exporter": "python",
   "pygments_lexer": "ipython3",
   "version": "3.9.2"
  }
 },
 "nbformat": 4,
 "nbformat_minor": 5
}
