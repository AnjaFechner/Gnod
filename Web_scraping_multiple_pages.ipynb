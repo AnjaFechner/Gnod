{
 "cells": [
  {
   "cell_type": "markdown",
   "id": "herbal-territory",
   "metadata": {},
   "source": [
    "0. Libraries"
   ]
  },
  {
   "cell_type": "code",
   "execution_count": 1,
   "id": "committed-cover",
   "metadata": {},
   "outputs": [],
   "source": [
    "from bs4 import BeautifulSoup\n",
    "import requests\n",
    "from time import sleep\n",
    "import pandas as pd\n",
    "from tqdm.notebook import tqdm\n",
    "from random import randint"
   ]
  },
  {
   "cell_type": "markdown",
   "id": "qualified-transaction",
   "metadata": {},
   "source": [
    "1. The URL"
   ]
  },
  {
   "cell_type": "code",
   "execution_count": 2,
   "id": "colonial-horizon",
   "metadata": {},
   "outputs": [],
   "source": [
    "url = \"https://freemusicarchive.org/music/charts/this-month?pageSize=200&page=1\""
   ]
  },
  {
   "cell_type": "code",
   "execution_count": 3,
   "id": "working-manchester",
   "metadata": {},
   "outputs": [
    {
     "data": {
      "text/plain": [
       "200"
      ]
     },
     "execution_count": 3,
     "metadata": {},
     "output_type": "execute_result"
    }
   ],
   "source": [
    "response = requests.get(url)\n",
    "response.status_code"
   ]
  },
  {
   "cell_type": "code",
   "execution_count": 4,
   "id": "nervous-success",
   "metadata": {},
   "outputs": [],
   "source": [
    "soup = BeautifulSoup(response.content, \"html.parser\")"
   ]
  },
  {
   "cell_type": "markdown",
   "id": "educated-continuity",
   "metadata": {},
   "source": [
    "- Iterations the scrap the next pages"
   ]
  },
  {
   "cell_type": "code",
   "execution_count": 5,
   "id": "handed-freeware",
   "metadata": {},
   "outputs": [],
   "source": [
    "# I limit the number of pages by 50 of 345 (content of every page: 200 songs)\n",
    "iterations = range(1, 50)"
   ]
  },
  {
   "cell_type": "code",
   "execution_count": null,
   "id": "martial-bones",
   "metadata": {},
   "outputs": [
    {
     "name": "stdout",
     "output_type": "stream",
     "text": [
      "Status code: 200\n",
      "Status code: 200\n"
     ]
    }
   ],
   "source": [
    "pages = []\n",
    "url_list = []\n",
    "\n",
    "for i in iterations:\n",
    "    start_at = str(i)\n",
    "    url = f\"https://freemusicarchive.org/music/charts/this-month?pageSize=200&page={start_at}\"\n",
    "    url_list.append(url)\n",
    "    response = requests.get(url)\n",
    "    print(\"Status code: \" + str(response.status_code))\n",
    "    pages.append(response)\n",
    "    wait_time = randint(1,4)\n",
    "    sleep(wait_time)\n",
    "url_list    "
   ]
  },
  {
   "cell_type": "code",
   "execution_count": null,
   "id": "color-retail",
   "metadata": {},
   "outputs": [],
   "source": [
    "soup = BeautifulSoup(pages[0].content, \"html.parser\")"
   ]
  },
  {
   "cell_type": "markdown",
   "id": "heard-blogger",
   "metadata": {},
   "source": [
    "2. Scraping the content"
   ]
  },
  {
   "cell_type": "markdown",
   "id": "underlying-factory",
   "metadata": {},
   "source": [
    "- song"
   ]
  },
  {
   "cell_type": "code",
   "execution_count": null,
   "id": "cellular-ebony",
   "metadata": {},
   "outputs": [],
   "source": [
    "soup.select(\"span.chartcol-track > a > b\")"
   ]
  },
  {
   "cell_type": "markdown",
   "id": "official-baptist",
   "metadata": {},
   "source": [
    "- artist"
   ]
  },
  {
   "cell_type": "code",
   "execution_count": null,
   "id": "white-butter",
   "metadata": {},
   "outputs": [],
   "source": [
    "soup.select(\"span.chartcol-artist > a\")"
   ]
  },
  {
   "cell_type": "markdown",
   "id": "documented-making",
   "metadata": {},
   "source": [
    "- genre"
   ]
  },
  {
   "cell_type": "code",
   "execution_count": null,
   "id": "varying-share",
   "metadata": {},
   "outputs": [],
   "source": [
    "soup.select(\"span.chartcol-genre > a:nth-child(1) > b\")"
   ]
  },
  {
   "cell_type": "markdown",
   "id": "loose-county",
   "metadata": {},
   "source": [
    "3. Create a list for song, artist and genre"
   ]
  },
  {
   "cell_type": "code",
   "execution_count": null,
   "id": "classified-swiss",
   "metadata": {},
   "outputs": [],
   "source": [
    "len(pages)"
   ]
  },
  {
   "cell_type": "code",
   "execution_count": null,
   "id": "romantic-astrology",
   "metadata": {},
   "outputs": [],
   "source": [
    "songs = []\n",
    "artists = []\n",
    "genres = []\n",
    "pages_parsed = []\n",
    "\n",
    "# looping through all pages\n",
    "for i in range(len(pages)):\n",
    "    # a soup for ever search result page\n",
    "    pages_parsed.append(BeautifulSoup(pages[i].content, \"html.parser\"))\n",
    "    \n",
    "    song_html = pages_parsed[i].select(\"span.chartcol-track\")\n",
    "    artist_html = pages_parsed[i].select(\"span.chartcol-artist\")\n",
    "    genres_html = pages_parsed[i].select(\"span.chartcol-genre\")"
   ]
  },
  {
   "cell_type": "code",
   "execution_count": null,
   "id": "comparative-people",
   "metadata": {},
   "outputs": [],
   "source": [
    "artist_html"
   ]
  },
  {
   "cell_type": "code",
   "execution_count": null,
   "id": "urban-margin",
   "metadata": {},
   "outputs": [],
   "source": [
    "for row in artist_html:\n",
    "    col = row.find_all('a')[0]\n",
    "col"
   ]
  },
  {
   "cell_type": "code",
   "execution_count": null,
   "id": "prospective-sperm",
   "metadata": {},
   "outputs": [],
   "source": [
    "# loop through the html content of the song, genre and artist of the current page (i)\n",
    "for j in range(len(pages)):\n",
    "        \n",
    "    # extract and append titles to songs list\n",
    "    songs.append(song_html[j].select(\"a > b\")[0].get_text())\n",
    "        \n",
    "    # extract and append artist to artists list\n",
    "    artists.append(artist_html[j].select(\"a\")[0].get_text())\n",
    "        \n",
    "    # extract and append genre to genres list\n",
    "    genres.append(genres_html[j].select(\"a:nth-child(1) > b\")[0].get_text())"
   ]
  },
  {
   "cell_type": "code",
   "execution_count": 46,
   "id": "optical-ground",
   "metadata": {},
   "outputs": [
    {
     "data": {
      "text/plain": [
       "['Divine-Shine']"
      ]
     },
     "execution_count": 46,
     "metadata": {},
     "output_type": "execute_result"
    }
   ],
   "source": [
    "songs"
   ]
  },
  {
   "cell_type": "code",
   "execution_count": 43,
   "id": "studied-forum",
   "metadata": {},
   "outputs": [
    {
     "data": {
      "text/plain": [
       "['A. A. Aalto',\n",
       " 'A. A. Aalto',\n",
       " 'A. A. Aalto',\n",
       " 'A. A. Aalto',\n",
       " 'A. A. Aalto',\n",
       " 'A. A. Aalto',\n",
       " 'A. A. Aalto',\n",
       " 'A. A. Aalto',\n",
       " 'A. A. Aalto',\n",
       " 'A. A. Aalto',\n",
       " 'A. A. Aalto',\n",
       " 'A. A. Aalto',\n",
       " 'A. A. Aalto',\n",
       " 'A. A. Aalto',\n",
       " 'A. A. Aalto',\n",
       " 'A. A. Aalto',\n",
       " 'A. A. Aalto',\n",
       " 'A. A. Aalto',\n",
       " 'A. A. Aalto',\n",
       " 'A. A. Aalto',\n",
       " 'A. A. Aalto',\n",
       " 'A. A. Aalto',\n",
       " 'A. A. Aalto',\n",
       " 'A. A. Aalto',\n",
       " 'A. A. Aalto',\n",
       " 'A. A. Aalto',\n",
       " 'A. A. Aalto',\n",
       " 'A. A. Aalto',\n",
       " 'A. A. Aalto',\n",
       " 'A. A. Aalto',\n",
       " 'A. A. Aalto',\n",
       " 'A. A. Aalto',\n",
       " 'A. A. Aalto',\n",
       " 'A. A. Aalto',\n",
       " 'A. A. Aalto',\n",
       " 'A. A. Aalto',\n",
       " 'A. A. Aalto',\n",
       " 'A. A. Aalto',\n",
       " 'A. A. Aalto',\n",
       " 'A. A. Aalto',\n",
       " 'A. A. Aalto',\n",
       " 'A. A. Aalto',\n",
       " 'A. A. Aalto',\n",
       " 'A. A. Aalto',\n",
       " 'A. A. Aalto',\n",
       " 'A. A. Aalto',\n",
       " 'A. A. Aalto',\n",
       " 'A. A. Aalto',\n",
       " 'A. A. Aalto']"
      ]
     },
     "execution_count": 43,
     "metadata": {},
     "output_type": "execute_result"
    }
   ],
   "source": [
    "artists"
   ]
  },
  {
   "cell_type": "code",
   "execution_count": null,
   "id": "comfortable-flour",
   "metadata": {},
   "outputs": [],
   "source": [
    "genres"
   ]
  },
  {
   "cell_type": "markdown",
   "id": "complete-wilson",
   "metadata": {},
   "source": [
    "- 4. Delete of not necesdsary signs in the list"
   ]
  },
  {
   "cell_type": "code",
   "execution_count": null,
   "id": "subtle-extreme",
   "metadata": {},
   "outputs": [],
   "source": [
    "movies['synopsis'] = movies['synopsis'].apply(lambda x: x.lstrip('\\n').strip())"
   ]
  },
  {
   "cell_type": "markdown",
   "id": "compressed-demographic",
   "metadata": {},
   "source": [
    "- 5. Create the Dataframe"
   ]
  },
  {
   "cell_type": "code",
   "execution_count": null,
   "id": "universal-warrior",
   "metadata": {},
   "outputs": [],
   "source": [
    "file2 = pd.DataFrame({'song': songs, 'artists': artists, 'genre': genres})"
   ]
  }
 ],
 "metadata": {
  "kernelspec": {
   "display_name": "Python 3",
   "language": "python",
   "name": "python3"
  },
  "language_info": {
   "codemirror_mode": {
    "name": "ipython",
    "version": 3
   },
   "file_extension": ".py",
   "mimetype": "text/x-python",
   "name": "python",
   "nbconvert_exporter": "python",
   "pygments_lexer": "ipython3",
   "version": "3.9.2"
  }
 },
 "nbformat": 4,
 "nbformat_minor": 5
}
